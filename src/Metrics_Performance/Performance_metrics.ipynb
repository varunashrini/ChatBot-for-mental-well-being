{
 "cells": [
  {
   "attachments": {},
   "cell_type": "markdown",
   "metadata": {},
   "source": [
    "PERFORMANCE METRICS"
   ]
  },
  {
   "attachments": {},
   "cell_type": "markdown",
   "metadata": {},
   "source": [
    "Import the necessary packages"
   ]
  },
  {
   "cell_type": "code",
   "execution_count": null,
   "metadata": {},
   "outputs": [],
   "source": [
    "import pandas as pd\n",
    "import torch\n",
    "from transformers import BertTokenizer, BertForSequenceClassification\n",
    "from sklearn.metrics import confusion_matrix, classification_report"
   ]
  },
  {
   "attachments": {},
   "cell_type": "markdown",
   "metadata": {},
   "source": [
    "Loading the BERT Model and Tokenizer and Evaluating the model"
   ]
  },
  {
   "cell_type": "code",
   "execution_count": null,
   "metadata": {},
   "outputs": [],
   "source": [
    "# Load the BERT tokenizer and model\n",
    "tokenizer = BertTokenizer.from_pretrained('bert-base-uncased')\n",
    "model = BertForSequenceClassification.from_pretrained('path to bert saved model')\n",
    "\n",
    "# Load the test dataset\n",
    "test_data = pd.read_csv('path to test.csv', header=None, names=['column 1', 'column 2'])\n",
    "test_texts = test_data['column 1'].tolist()\n",
    "test_labels = test_data['column 2'].tolist()\n",
    "\n",
    "# Tokenize and encode the test data\n",
    "test_encodings = tokenizer(test_texts, truncation=True, padding=True)\n",
    "test_dataset = list(zip(test_encodings['input_ids'], test_encodings['attention_mask'], test_labels))\n",
    "\n",
    "# Evaluate the BERT model on the test data\n",
    "with torch.no_grad():\n",
    "    model.eval()\n",
    "    predictions = []\n",
    "    true_labels = []\n",
    "    for input_ids, attention_mask, label in test_dataset:\n",
    "        output = model(input_ids=torch.tensor(input_ids).unsqueeze(0), attention_mask=torch.tensor(attention_mask).unsqueeze(0))\n",
    "        predicted_label = torch.argmax(output.logits, dim=1).item()\n",
    "        predictions.append(predicted_label)\n",
    "        true_labels.append(label)\n",
    "\n",
    "# Print the confusion matrix and classification report\n",
    "print('Confusion Matrix:')\n",
    "print(confusion_matrix(true_labels, predictions))\n",
    "print('Classification Report:')\n",
    "print(classification_report(true_labels, predictions))"
   ]
  }
 ],
 "metadata": {
  "kernelspec": {
   "display_name": "Python 3",
   "language": "python",
   "name": "python3"
  },
  "language_info": {
   "name": "python",
   "version": "3.10.6"
  },
  "orig_nbformat": 4
 },
 "nbformat": 4,
 "nbformat_minor": 2
}
