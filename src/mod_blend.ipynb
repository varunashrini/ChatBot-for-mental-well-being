{
 "cells": [
  {
   "attachments": {},
   "cell_type": "markdown",
   "metadata": {},
   "source": [
    "Save the modified model in PT file"
   ]
  },
  {
   "cell_type": "code",
   "execution_count": 17,
   "metadata": {},
   "outputs": [],
   "source": [
    "import pandas as pd\n",
    "import torch\n",
    "from transformers import BlenderbotForConditionalGeneration, BlenderbotTokenizer\n",
    "\n",
    "# Load the tokenizer\n",
    "tokenizer = BlenderbotTokenizer.from_pretrained('facebook/blenderbot-400M-distill')\n",
    "\n",
    "# Load the original model\n",
    "model = BlenderbotForConditionalGeneration.from_pretrained('facebook/blenderbot-400M-distill')\n",
    "\n",
    "# Define a function to generate response\n",
    "def generate_response(input_text, loaded_model=None, loaded_tokenizer=None):\n",
    "    response_df = pd.read_csv('path to datafile.csv') \n",
    "    input_text_df = response_df['Questions'] \n",
    "    modified_response_df = response_df['Answers']  \n",
    "    if input_text in input_text_df.values:  \n",
    "        idx = input_text_df[input_text_df == input_text].index[0]  \n",
    "        output_text = modified_response_df[idx]  \n",
    "    else:\n",
    "        if loaded_model and loaded_tokenizer:\n",
    "            input_ids = loaded_tokenizer.encode(input_text, return_tensors='pt')\n",
    "            output_ids = loaded_model.generate(input_ids)\n",
    "            output_text = loaded_tokenizer.decode(output_ids[0], skip_special_tokens=True)\n",
    "        else:\n",
    "            input_ids = tokenizer.encode(input_text, return_tensors='pt')\n",
    "            output_ids = model.generate(input_ids)\n",
    "            output_text = tokenizer.decode(output_ids[0], skip_special_tokens=True)\n",
    "    return output_text\n",
    "\n",
    "# Save the state_dict of the modified model\n",
    "modified_state_dict = model.state_dict()\n",
    "torch.save(modified_state_dict, 'path to directory modified_blenderbot_distill.pt')\n"
   ]
  },
  {
   "attachments": {},
   "cell_type": "markdown",
   "metadata": {},
   "source": [
    "SAVE THE MODEL"
   ]
  },
  {
   "cell_type": "code",
   "execution_count": 18,
   "metadata": {},
   "outputs": [],
   "source": [
    "loaded_state_dict = torch.load('path to directory modified_blenderbot_distill.pt')\n",
    "loaded_model = BlenderbotForConditionalGeneration.from_pretrained('facebook/blenderbot-400M-distill')\n",
    "loaded_model.load_state_dict(loaded_state_dict)\n",
    "\n",
    "loaded_model.save_pretrained('patht to save the modified_blenderbot_distill folder')\n"
   ]
  }
 ],
 "metadata": {
  "kernelspec": {
   "display_name": "Python 3",
   "language": "python",
   "name": "python3"
  },
  "language_info": {
   "codemirror_mode": {
    "name": "ipython",
    "version": 3
   },
   "file_extension": ".py",
   "mimetype": "text/x-python",
   "name": "python",
   "nbconvert_exporter": "python",
   "pygments_lexer": "ipython3",
   "version": "3.9.6"
  },
  "orig_nbformat": 4
 },
 "nbformat": 4,
 "nbformat_minor": 2
}
